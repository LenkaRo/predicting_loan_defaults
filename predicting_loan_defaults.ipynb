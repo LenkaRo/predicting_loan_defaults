{
 "cells": [
  {
   "cell_type": "markdown",
   "metadata": {},
   "source": [
    "# Predicting Loan Defaults\n",
    "\n",
    "### Plan for predictive analysis - classification to predict the defaulter\n",
    "\n",
    "1. machine learning model for prediction of loan default: Logistic regression, Decision Tree, (Naive Bayes?)\n",
    "2. feauture engineering (dealing with NAs, dummy features for categorical values, scaling)\n",
    "3. target feature: default payment next month\n",
    "4. feature matrix (explanatory variables): all for LogReg, limit to eg. 50 for DT\n",
    "5. test/train split\n",
    "6. null model for cross validation\n",
    "7. build models on default classification threshold 0.5 (Logistic regression, Decision Tree, (Naive Bayes?))\n",
    "8. calculate models metrics: accuracy, precision, recall\n",
    "9. compare the metrics to see what model might be the best (visualize it?)\n",
    "10. adjust values of metrics (precision and recall) by modifying the classification threshold\n",
    "11. choose the best model = final trained model\n",
    "11. showcase the model - make an individual prediction for a client\n",
    "\n",
    "### Libraries\n",
    "numpy, pandas, matplotlib, seaborn, skikit-learn"
   ]
  }
 ],
 "metadata": {
  "kernelspec": {
   "display_name": "Python 3",
   "language": "python",
   "name": "python3"
  },
  "language_info": {
   "codemirror_mode": {
    "name": "ipython",
    "version": 3
   },
   "file_extension": ".py",
   "mimetype": "text/x-python",
   "name": "python",
   "nbconvert_exporter": "python",
   "pygments_lexer": "ipython3",
   "version": "3.8.3"
  }
 },
 "nbformat": 4,
 "nbformat_minor": 4
}
